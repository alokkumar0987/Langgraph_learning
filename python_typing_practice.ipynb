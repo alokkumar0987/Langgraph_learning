{
 "cells": [
  {
   "cell_type": "code",
   "execution_count": null,
   "id": "85574154",
   "metadata": {},
   "outputs": [],
   "source": [
    "from typing import TypedDict\n",
    "from langgraph import stateGraph"
   ]
  },
  {
   "cell_type": "code",
   "execution_count": null,
   "id": "87a2e5f2",
   "metadata": {},
   "outputs": [],
   "source": [
    "!pip install langgraph"
   ]
  },
  {
   "cell_type": "code",
   "execution_count": null,
   "id": "a62377fb",
   "metadata": {},
   "outputs": [],
   "source": [
    "from langgraph import stateGraph"
   ]
  },
  {
   "cell_type": "code",
   "execution_count": null,
   "id": "ca9b5b0c",
   "metadata": {},
   "outputs": [],
   "source": [
    "class  Movies(TypedDict):\n",
    "    name:str\n",
    "    year:int\n",
    "    director:str\n",
    "    genre:str\n",
    "    duration_min:int\n",
    "    rating:int\n",
    "    language:str\n",
    "    country:str\n",
    "    budget_million:float\n",
    "    resease_date=int\n",
    "    "
   ]
  },
  {
   "cell_type": "code",
   "execution_count": 13,
   "id": "0e71b800",
   "metadata": {},
   "outputs": [],
   "source": [
    "movies=Movies(\n",
    "    name=\"avenger\",\n",
    "    year=2022,\n",
    "    director=\"alok\",\n",
    "    genre=\"action\",\n",
    "    duration_min=200,\n",
    "    rating=3,\n",
    "    language=\"hindi\",\n",
    "    country=\"IN\",\n",
    "    budget_million=3.6\n",
    "\n",
    "\n",
    ")\n",
    "\n"
   ]
  },
  {
   "cell_type": "code",
   "execution_count": 14,
   "id": "cc11e8ba",
   "metadata": {},
   "outputs": [
    {
     "name": "stdout",
     "output_type": "stream",
     "text": [
      "{'name': 'avenger', 'year': 2022, 'director': 'alok', 'genre': 'action', 'duration_min': 200, 'rating': 3, 'language': 'hindi', 'country': 'IN', 'budget_million': 3.6}\n"
     ]
    }
   ],
   "source": [
    "print(movies)"
   ]
  },
  {
   "cell_type": "code",
   "execution_count": 15,
   "id": "52ebcbbb",
   "metadata": {},
   "outputs": [
    {
     "name": "stdout",
     "output_type": "stream",
     "text": [
      "2022\n"
     ]
    }
   ],
   "source": [
    "print(movies['year'])"
   ]
  },
  {
   "cell_type": "code",
   "execution_count": 16,
   "id": "2d7b0430",
   "metadata": {},
   "outputs": [
    {
     "name": "stdout",
     "output_type": "stream",
     "text": [
      "avenger\n"
     ]
    }
   ],
   "source": [
    "print(movies['name'])"
   ]
  },
  {
   "cell_type": "code",
   "execution_count": 17,
   "id": "d0eddfdc",
   "metadata": {},
   "outputs": [
    {
     "ename": "NameError",
     "evalue": "name 'resease_date' is not defined",
     "output_type": "error",
     "traceback": [
      "\u001b[1;31m---------------------------------------------------------------------------\u001b[0m",
      "\u001b[1;31mNameError\u001b[0m                                 Traceback (most recent call last)",
      "Cell \u001b[1;32mIn[17], line 1\u001b[0m\n\u001b[1;32m----> 1\u001b[0m movies[resease_date]\u001b[38;5;241m=\u001b[39m\u001b[38;5;241m2000\u001b[39m\n",
      "\u001b[1;31mNameError\u001b[0m: name 'resease_date' is not defined"
     ]
    }
   ],
   "source": [
    "movies[resease_date]=2000"
   ]
  },
  {
   "cell_type": "code",
   "execution_count": null,
   "id": "6a1f7121",
   "metadata": {},
   "outputs": [],
   "source": []
  }
 ],
 "metadata": {
  "kernelspec": {
   "display_name": "base",
   "language": "python",
   "name": "python3"
  },
  "language_info": {
   "codemirror_mode": {
    "name": "ipython",
    "version": 3
   },
   "file_extension": ".py",
   "mimetype": "text/x-python",
   "name": "python",
   "nbconvert_exporter": "python",
   "pygments_lexer": "ipython3",
   "version": "3.13.5"
  }
 },
 "nbformat": 4,
 "nbformat_minor": 5
}
